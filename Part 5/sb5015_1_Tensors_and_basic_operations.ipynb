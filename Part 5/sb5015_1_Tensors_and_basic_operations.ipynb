{
 "cells": [
  {
   "cell_type": "code",
   "execution_count": 1,
   "metadata": {},
   "outputs": [],
   "source": [
    "%load_ext autoreload\n",
    "%autoreload 2\n",
    "%matplotlib inline"
   ]
  },
  {
   "cell_type": "code",
   "execution_count": 2,
   "metadata": {},
   "outputs": [],
   "source": [
    "import numpy as np\n",
    "import matplotlib.pyplot as plt\n",
    "from hottbox.core import Tensor"
   ]
  },
  {
   "cell_type": "markdown",
   "metadata": {
    "toc-hr-collapsed": false
   },
   "source": [
    "[Return to Table of Contents](./0_Table_of_contents.ipynb)"
   ]
  },
  {
   "cell_type": "markdown",
   "metadata": {
    "toc-hr-collapsed": false
   },
   "source": [
    "# Tensors and basic operations"
   ]
  },
  {
   "cell_type": "markdown",
   "metadata": {
    "toc-hr-collapsed": true
   },
   "source": [
    "<img src=\"./imgs/tensors_dogs.jpg\" alt=\"Drawing\" style=\"width: 500px;\"/>\n",
    "\n",
    "A tensor is a multi-dimenaional array of data where each dimension is conventionally referred to as the **mode**. Tensor order is defined by the number of its modes which is equivivalent to the number of indices required to identify a particular entry of a multi-dimensional array. For ease of visualisation and compact notation, we consider a third order tensor $\\mathbf{\\underline{X}} \\in \\mathbb{R}^{I \\times J \\times K}$. Thus, an element of such a tensor, $\\mathbf{\\underline{X}} \\in \\mathbb{R}^{I \\times J \\times K}$, can be written in a general form as:\n",
    "\n",
    "$$ x_{ijk} = \\mathbf{\\underline{X}}[i, j, k]$$\n",
    "\n",
    "> **Note:** In order to be consistent with Python indexing, count of modes and elements within starts from zeros.\n",
    "\n",
    "Creation of a tensor starts with a formation of a multidimensional array of data."
   ]
  },
  {
   "cell_type": "code",
   "execution_count": 3,
   "metadata": {},
   "outputs": [
    {
     "name": "stdout",
     "output_type": "stream",
     "text": [
      "This tensor is of order 3 and consists of 24 elements.\n",
      "Sizes and names of its modes are (2, 3, 4) and ['mode-0', 'mode-1', 'mode-2'] respectively.\n"
     ]
    },
    {
     "data": {
      "text/plain": [
       "array([[[ 0,  1,  2,  3],\n",
       "        [ 4,  5,  6,  7],\n",
       "        [ 8,  9, 10, 11]],\n",
       "\n",
       "       [[12, 13, 14, 15],\n",
       "        [16, 17, 18, 19],\n",
       "        [20, 21, 22, 23]]])"
      ]
     },
     "execution_count": 3,
     "metadata": {},
     "output_type": "execute_result"
    }
   ],
   "source": [
    "# Create 3-d array of data\n",
    "array_3d = np.arange(24).reshape((2, 3, 4))\n",
    "\n",
    "# Create tensor\n",
    "tensor = Tensor(array_3d)\n",
    "\n",
    "# Result preview\n",
    "print(tensor)\n",
    "tensor.data"
   ]
  },
  {
   "cell_type": "markdown",
   "metadata": {
    "toc-hr-collapsed": true
   },
   "source": [
    "## **Assigment 1**\n",
    "\n",
    "1. Create a tensor of order 5 (of any shape) and with all its values equal to 5. Then, calculate its Frobenious norm. \n",
    "2. Construct several tensors of orders varying from 3 to 20, with the size of each dimension equal to 2. Plot the relation between an order of a tensor and the number of its elements.\n",
    "3. Construct several tensors of order 3 with the size of each dimension varying from 3 to 15. Plot the relation between the size of dimensions of a tensor and the number of its elements.\n",
    "4. Analyse and compare the so obtained graphs."
   ]
  },
  {
   "cell_type": "markdown",
   "metadata": {},
   "source": [
    "### Solution: Part 1"
   ]
  },
  {
   "cell_type": "code",
   "execution_count": 4,
   "metadata": {},
   "outputs": [
    {
     "name": "stdout",
     "output_type": "stream",
     "text": [
      "This tensor is of order 5 and consists of 72 elements.\n",
      "Sizes and names of its modes are (2, 3, 2, 3, 2) and ['mode-0', 'mode-1', 'mode-2', 'mode-3', 'mode-4'] respectively.\n"
     ]
    },
    {
     "data": {
      "text/plain": [
       "array([[[[[5, 5],\n",
       "          [5, 5],\n",
       "          [5, 5]],\n",
       "\n",
       "         [[5, 5],\n",
       "          [5, 5],\n",
       "          [5, 5]]],\n",
       "\n",
       "\n",
       "        [[[5, 5],\n",
       "          [5, 5],\n",
       "          [5, 5]],\n",
       "\n",
       "         [[5, 5],\n",
       "          [5, 5],\n",
       "          [5, 5]]],\n",
       "\n",
       "\n",
       "        [[[5, 5],\n",
       "          [5, 5],\n",
       "          [5, 5]],\n",
       "\n",
       "         [[5, 5],\n",
       "          [5, 5],\n",
       "          [5, 5]]]],\n",
       "\n",
       "\n",
       "\n",
       "       [[[[5, 5],\n",
       "          [5, 5],\n",
       "          [5, 5]],\n",
       "\n",
       "         [[5, 5],\n",
       "          [5, 5],\n",
       "          [5, 5]]],\n",
       "\n",
       "\n",
       "        [[[5, 5],\n",
       "          [5, 5],\n",
       "          [5, 5]],\n",
       "\n",
       "         [[5, 5],\n",
       "          [5, 5],\n",
       "          [5, 5]]],\n",
       "\n",
       "\n",
       "        [[[5, 5],\n",
       "          [5, 5],\n",
       "          [5, 5]],\n",
       "\n",
       "         [[5, 5],\n",
       "          [5, 5],\n",
       "          [5, 5]]]]])"
      ]
     },
     "execution_count": 4,
     "metadata": {},
     "output_type": "execute_result"
    }
   ],
   "source": [
    "# Create a tensor\n",
    "array_5d = np.full((2, 3, 2, 3, 2), 5)\n",
    "\n",
    "tensor_5 = Tensor(array_5d)\n",
    "\n",
    "print(tensor_5)\n",
    "tensor_5.data"
   ]
  },
  {
   "cell_type": "code",
   "execution_count": 5,
   "metadata": {},
   "outputs": [
    {
     "data": {
      "text/plain": [
       "42.42640687119285"
      ]
     },
     "execution_count": 5,
     "metadata": {},
     "output_type": "execute_result"
    }
   ],
   "source": [
    "# Calculate Frobenious norm\n",
    "tensor_5.frob_norm"
   ]
  },
  {
   "cell_type": "markdown",
   "metadata": {},
   "source": [
    "### Solution: Part 2"
   ]
  },
  {
   "cell_type": "code",
   "execution_count": 6,
   "metadata": {},
   "outputs": [],
   "source": [
    "# Create tensors and collect information\n",
    "elements = []\n",
    "order = []\n",
    "for i in range(3,21):\n",
    "    lst = [2]*i\n",
    "    array = np.full(lst, 1)\n",
    "    tensor = Tensor(array)\n",
    "    order.append(tensor.order)\n",
    "    elements.append(tensor.size)"
   ]
  },
  {
   "cell_type": "code",
   "execution_count": 9,
   "metadata": {},
   "outputs": [
    {
     "data": {
      "text/plain": [
       "Text(0.5, 1.0, 'Number of Elements against Tensor order with size 2')"
      ]
     },
     "execution_count": 9,
     "metadata": {},
     "output_type": "execute_result"
    },
    {
     "data": {
      "image/png": "[encoded data removed]",
      "text/plain": [
       "<Figure size 432x288 with 1 Axes>"
      ]
     },
     "metadata": {
      "needs_background": "light"
     },
     "output_type": "display_data"
    }
   ],
   "source": [
    "# Plot results\n",
    "plt.plot(order,elements)\n",
    "\n",
    "plt.xlabel(r'Tensor Order',fontsize=16)\n",
    "plt.ylabel(r'Number of Elements',fontsize=16)\n",
    "plt.title(r\"Number of Elements against Tensor order with size 2\",fontsize=16)"
   ]
  },
  {
   "cell_type": "markdown",
   "metadata": {},
   "source": [
    "### Solution: Part 3"
   ]
  },
  {
   "cell_type": "code",
   "execution_count": 10,
   "metadata": {},
   "outputs": [],
   "source": [
    "# Create tensors and collect information\n",
    "size = []\n",
    "ele = []\n",
    "for i in range(3,17):\n",
    "    array = np.full((i,i,i), 1)\n",
    "    tensor = Tensor(array)\n",
    "    size.append(i)\n",
    "    ele.append(tensor.size)"
   ]
  },
  {
   "cell_type": "code",
   "execution_count": 11,
   "metadata": {},
   "outputs": [
    {
     "data": {
      "text/plain": [
       "Text(0.5, 1.0, 'Number of Elements against Tensor size with order 3')"
      ]
     },
     "execution_count": 11,
     "metadata": {},
     "output_type": "execute_result"
    },
    {
     "data": {
      "image/png": "[encoded data removed]",
      "text/plain": [
       "<Figure size 432x288 with 1 Axes>"
      ]
     },
     "metadata": {
      "needs_background": "light"
     },
     "output_type": "display_data"
    }
   ],
   "source": [
    "# Plot results\n",
    "plt.plot(size,ele)\n",
    "\n",
    "plt.xlabel(r'Tensor Order',fontsize=16)\n",
    "plt.ylabel(r'Number of Elements',fontsize=16)\n",
    "plt.title(r\"Number of Elements against Tensor size with order 3\",fontsize=16)"
   ]
  },
  {
   "cell_type": "markdown",
   "metadata": {},
   "source": [
    "### Solution: Part 4"
   ]
  },
  {
   "cell_type": "markdown",
   "metadata": {},
   "source": [
    "The number of elements against tensor order gives an exponential increase, whereas the number of elements against tensor size gives a more gradual increase. This is due to the fact that for the order, the number of elements in this case correspond to 2^(order). For the size, the number of elements is equal to (size x 3) as it is of order 3. Increasing the order, can drastically increase the number of elements present in the tensor."
   ]
  },
  {
   "cell_type": "markdown",
   "metadata": {
    "toc-hr-collapsed": false
   },
   "source": [
    "# Most common tensor substructures\n",
    "<img src=\"./imgs/tensor_substructures.png\" alt=\"Drawing\" style=\"width: 500px;\"/>\n",
    "\n",
    "1. A **fiber** is a vector obtained by fixing all but one of the indices, e.g.  $\\mathbf{\\underline{X}}[i,:,k]$ is the mode-2 fiber $\\mathbf{\\underline{X}}$ (usually refered to as row fiber). \n",
    "\n",
    "1. Fixing all but two of the indices yields a matrix called a **slice** of a tensor, e.g. $\\mathbf{\\underline{X}}[:,:,k]$ is the mode-[1,2] slice (usually refered to as the frontal slice).\n",
    "\n",
    "**Note:** The same principles and definitions can be applied to a tensor of an arbitrarily large order. In addition, you can obtain a **subtensor** by fixing at least three indices and letting the remaining ones vary."
   ]
  },
  {
   "cell_type": "code",
   "execution_count": 10,
   "metadata": {},
   "outputs": [
    {
     "data": {
      "text/plain": [
       "array([4, 5, 6, 7])"
      ]
     },
     "execution_count": 10,
     "metadata": {},
     "output_type": "execute_result"
    }
   ],
   "source": [
    "# Mode-2 fiber\n",
    "tensor.data[0,1,:]"
   ]
  },
  {
   "cell_type": "code",
   "execution_count": 11,
   "metadata": {},
   "outputs": [
    {
     "data": {
      "text/plain": [
       "array([[ 0,  1,  2,  3],\n",
       "       [ 4,  5,  6,  7],\n",
       "       [ 8,  9, 10, 11]])"
      ]
     },
     "execution_count": 11,
     "metadata": {},
     "output_type": "execute_result"
    }
   ],
   "source": [
    "# Frontal slice\n",
    "tensor.data[0,:,:]"
   ]
  },
  {
   "cell_type": "markdown",
   "metadata": {
    "toc-hr-collapsed": true
   },
   "source": [
    "## **Assigment 2**\n",
    "\n",
    "1. Create a tensor of order 4 which consists of 81 elements and display all its horizontal slices and any five row fibers.\n",
    "2. Create a tensor of order 3 and shape `(4,2,5)`, where the values of each consequent frontal slice are doubled."
   ]
  },
  {
   "cell_type": "markdown",
   "metadata": {},
   "source": [
    "### Solution: Part 1"
   ]
  },
  {
   "cell_type": "code",
   "execution_count": 9,
   "metadata": {},
   "outputs": [],
   "source": [
    "# Create a tensor of order 4\n",
    "array_4d = np.arange(81).reshape((3, 3, 3, 3))\n",
    "tensor_4 = Tensor(array_4d)"
   ]
  },
  {
   "cell_type": "code",
   "execution_count": 17,
   "metadata": {},
   "outputs": [
    {
     "name": "stdout",
     "output_type": "stream",
     "text": [
      "[[[ 0  1  2]\n",
      "  [ 3  4  5]\n",
      "  [ 6  7  8]]\n",
      "\n",
      " [[ 9 10 11]\n",
      "  [12 13 14]\n",
      "  [15 16 17]]\n",
      "\n",
      " [[18 19 20]\n",
      "  [21 22 23]\n",
      "  [24 25 26]]]\n",
      "[[[27 28 29]\n",
      "  [30 31 32]\n",
      "  [33 34 35]]\n",
      "\n",
      " [[36 37 38]\n",
      "  [39 40 41]\n",
      "  [42 43 44]]\n",
      "\n",
      " [[45 46 47]\n",
      "  [48 49 50]\n",
      "  [51 52 53]]]\n",
      "[[[54 55 56]\n",
      "  [57 58 59]\n",
      "  [60 61 62]]\n",
      "\n",
      " [[63 64 65]\n",
      "  [66 67 68]\n",
      "  [69 70 71]]\n",
      "\n",
      " [[72 73 74]\n",
      "  [75 76 77]\n",
      "  [78 79 80]]]\n"
     ]
    }
   ],
   "source": [
    "# Display slices\n",
    "for i in range(0,3):\n",
    "    print(tensor_4.data[i,:,:,:])"
   ]
  },
  {
   "cell_type": "code",
   "execution_count": 16,
   "metadata": {},
   "outputs": [
    {
     "name": "stdout",
     "output_type": "stream",
     "text": [
      "[33 42 51]\n",
      "[34 43 52]\n",
      "[35 44 53]\n",
      "[29 38 47]\n",
      "[32 41 50]\n"
     ]
    }
   ],
   "source": [
    "# Display fibers\n",
    "for p in range(0,3):\n",
    "    print(tensor_4.data[1,:,2,p])\n",
    "    \n",
    "for i in range(0,2):\n",
    "    print(tensor_4.data[1,:,i,2])"
   ]
  },
  {
   "cell_type": "markdown",
   "metadata": {},
   "source": [
    "### Solution: Part 2"
   ]
  },
  {
   "cell_type": "code",
   "execution_count": 11,
   "metadata": {},
   "outputs": [
    {
     "name": "stdout",
     "output_type": "stream",
     "text": [
      "[[1 1]\n",
      " [1 1]\n",
      " [1 1]\n",
      " [1 1]]\n",
      "[[2 2]\n",
      " [2 2]\n",
      " [2 2]\n",
      " [2 2]]\n",
      "[[4 4]\n",
      " [4 4]\n",
      " [4 4]\n",
      " [4 4]]\n",
      "[[8 8]\n",
      " [8 8]\n",
      " [8 8]\n",
      " [8 8]]\n",
      "[[16 16]\n",
      " [16 16]\n",
      " [16 16]\n",
      " [16 16]]\n"
     ]
    }
   ],
   "source": [
    "# Create a tensor of order 3\n",
    "array3 = np.full((4,2,5), 1)\n",
    "for k in range(1,5):\n",
    "    array3[:,:,k] = 2*array3[3,1,k-1]\n",
    "\n",
    "tensor3 = Tensor(array3)\n",
    "for i in range(0,5):\n",
    "    print(tensor3.data[:,:,i])"
   ]
  },
  {
   "cell_type": "markdown",
   "metadata": {
    "toc-hr-collapsed": false
   },
   "source": [
    "# Unfolding\n",
    "\n",
    "Conventionally, unfolding is considered to be a process of element mapping from a tensor to a matrix. In other words, it arranges the mode-$n$ fibers of a tensor to be the matrix columns. Thus, the mode-$n$ unfolding is denoted as:\n",
    "\n",
    "$$\\mathbf{\\underline{A}} \\xrightarrow{n} \\mathbf{A}_{(n)}$$\n",
    "\n",
    "Thus, this operations requires to specify a mode along which a tensor will be unfolded. For a third order tensor, a visual representation of such operation is as following\n",
    "\n",
    "<img src=\"./imgs/unfolding.png\" alt=\"Drawing\" style=\"width: 600px;\"/>\n",
    "\n",
    "In `hottbox` this functionality is available through the corresponding methods of the `Tensor` object, for instance:"
   ]
  },
  {
   "cell_type": "code",
   "execution_count": 16,
   "metadata": {},
   "outputs": [
    {
     "name": "stdout",
     "output_type": "stream",
     "text": [
      "This tensor is of order 2 and consists of 24 elements.\n",
      "Sizes and names of its modes are (2, 12) and ['mode-0', 'mode-1_mode-2'] respectively.\n"
     ]
    },
    {
     "data": {
      "text/plain": [
       "array([[ 0,  1,  2,  3,  4,  5,  6,  7,  8,  9, 10, 11],\n",
       "       [12, 13, 14, 15, 16, 17, 18, 19, 20, 21, 22, 23]])"
      ]
     },
     "execution_count": 16,
     "metadata": {},
     "output_type": "execute_result"
    }
   ],
   "source": [
    "# Create 3-d array of data\n",
    "array_3d = np.arange(24).reshape((2, 3, 4))\n",
    "\n",
    "# Create tensor\n",
    "tensor = Tensor(array_3d)\n",
    "\n",
    "# Unfolding of a tensor\n",
    "tensor.unfold(mode=0)\n",
    "\n",
    "# Result preview\n",
    "print(tensor)\n",
    "tensor.data"
   ]
  },
  {
   "cell_type": "markdown",
   "metadata": {
    "toc-hr-collapsed": true
   },
   "source": [
    "## **Assigment 3**\n",
    "\n",
    "1. Create a tensor, $\\mathbf{\\underline{A}}$, of order 4, in such a way that its version unfolded along the second mode would have sizes `(5,72)`, that is $\\mathbf{A}_{(n)} \\in  \\mathbb{R}^{5 \\times 72}$. Validate your results by displaying the unfolded tensor."
   ]
  },
  {
   "cell_type": "markdown",
   "metadata": {},
   "source": [
    "### Solution : Part 1"
   ]
  },
  {
   "cell_type": "code",
   "execution_count": 17,
   "metadata": {},
   "outputs": [
    {
     "data": {
      "text/plain": [
       "This tensor is of order 2 and consists of 360 elements.\n",
       "Sizes and names of its modes are (5, 72) and ['mode-1', 'mode-0_mode-2_mode-3'] respectively."
      ]
     },
     "execution_count": 17,
     "metadata": {},
     "output_type": "execute_result"
    }
   ],
   "source": [
    "# Create a tensor\n",
    "array4 = np.arange(360).reshape((8, 5, 3, 3))\n",
    "\n",
    "tensor4 = Tensor(array4)\n",
    "\n",
    "tensor4.unfold(mode=1)"
   ]
  },
  {
   "cell_type": "code",
   "execution_count": 18,
   "metadata": {},
   "outputs": [
    {
     "name": "stdout",
     "output_type": "stream",
     "text": [
      "This tensor is of order 2 and consists of 360 elements.\n",
      "Sizes and names of its modes are (5, 72) and ['mode-1', 'mode-0_mode-2_mode-3'] respectively.\n"
     ]
    },
    {
     "data": {
      "text/plain": [
       "array([[  0,   1,   2,   3,   4,   5,   6,   7,   8,  45,  46,  47,  48,\n",
       "         49,  50,  51,  52,  53,  90,  91,  92,  93,  94,  95,  96,  97,\n",
       "         98, 135, 136, 137, 138, 139, 140, 141, 142, 143, 180, 181, 182,\n",
       "        183, 184, 185, 186, 187, 188, 225, 226, 227, 228, 229, 230, 231,\n",
       "        232, 233, 270, 271, 272, 273, 274, 275, 276, 277, 278, 315, 316,\n",
       "        317, 318, 319, 320, 321, 322, 323],\n",
       "       [  9,  10,  11,  12,  13,  14,  15,  16,  17,  54,  55,  56,  57,\n",
       "         58,  59,  60,  61,  62,  99, 100, 101, 102, 103, 104, 105, 106,\n",
       "        107, 144, 145, 146, 147, 148, 149, 150, 151, 152, 189, 190, 191,\n",
       "        192, 193, 194, 195, 196, 197, 234, 235, 236, 237, 238, 239, 240,\n",
       "        241, 242, 279, 280, 281, 282, 283, 284, 285, 286, 287, 324, 325,\n",
       "        326, 327, 328, 329, 330, 331, 332],\n",
       "       [ 18,  19,  20,  21,  22,  23,  24,  25,  26,  63,  64,  65,  66,\n",
       "         67,  68,  69,  70,  71, 108, 109, 110, 111, 112, 113, 114, 115,\n",
       "        116, 153, 154, 155, 156, 157, 158, 159, 160, 161, 198, 199, 200,\n",
       "        201, 202, 203, 204, 205, 206, 243, 244, 245, 246, 247, 248, 249,\n",
       "        250, 251, 288, 289, 290, 291, 292, 293, 294, 295, 296, 333, 334,\n",
       "        335, 336, 337, 338, 339, 340, 341],\n",
       "       [ 27,  28,  29,  30,  31,  32,  33,  34,  35,  72,  73,  74,  75,\n",
       "         76,  77,  78,  79,  80, 117, 118, 119, 120, 121, 122, 123, 124,\n",
       "        125, 162, 163, 164, 165, 166, 167, 168, 169, 170, 207, 208, 209,\n",
       "        210, 211, 212, 213, 214, 215, 252, 253, 254, 255, 256, 257, 258,\n",
       "        259, 260, 297, 298, 299, 300, 301, 302, 303, 304, 305, 342, 343,\n",
       "        344, 345, 346, 347, 348, 349, 350],\n",
       "       [ 36,  37,  38,  39,  40,  41,  42,  43,  44,  81,  82,  83,  84,\n",
       "         85,  86,  87,  88,  89, 126, 127, 128, 129, 130, 131, 132, 133,\n",
       "        134, 171, 172, 173, 174, 175, 176, 177, 178, 179, 216, 217, 218,\n",
       "        219, 220, 221, 222, 223, 224, 261, 262, 263, 264, 265, 266, 267,\n",
       "        268, 269, 306, 307, 308, 309, 310, 311, 312, 313, 314, 351, 352,\n",
       "        353, 354, 355, 356, 357, 358, 359]])"
      ]
     },
     "execution_count": 18,
     "metadata": {},
     "output_type": "execute_result"
    }
   ],
   "source": [
    "# Display unfolded version\n",
    "print(tensor4)\n",
    "tensor4.data"
   ]
  },
  {
   "cell_type": "markdown",
   "metadata": {
    "toc-hr-collapsed": false
   },
   "source": [
    "# Mode-n product \n",
    "<img src=\"./imgs/mode_n_product.png\" alt=\"Drawing\" style=\"width: 600px;\"/>\n",
    "\n",
    "The mode-$n$ product is a multiplication of a tensor  by a matrix along the $n^{th}$ mode of a tensor. This essentially means that each mode-$n$ fiber should be multiplied by this matrix. Mathematically, this can be expressed as:\n",
    "\n",
    "$$\\mathbf{\\underline{X}} \\times_n \\mathbf{A} = \\mathbf{\\underline{Y}} \\quad \\Leftrightarrow  \\quad \\mathbf{Y}_{(n)} = \\mathbf{A} \\mathbf{X}_{(n)}  $$"
   ]
  },
  {
   "cell_type": "code",
   "execution_count": 19,
   "metadata": {},
   "outputs": [
    {
     "name": "stdout",
     "output_type": "stream",
     "text": [
      "This tensor is of order 3 and consists of 40 elements.\n",
      "Sizes and names of its modes are (2, 5, 4) and ['mode-0', 'mode-1', 'mode-2'] respectively.\n"
     ]
    },
    {
     "data": {
      "text/plain": [
       "40"
      ]
     },
     "execution_count": 19,
     "metadata": {},
     "output_type": "execute_result"
    }
   ],
   "source": [
    "I, J, K = 2, 3, 4\n",
    "J_new = 5\n",
    "\n",
    "# Create tensor\n",
    "array_3d = np.arange(I * J * K).reshape(I, J ,K)\n",
    "X = Tensor(array_3d)\n",
    "\n",
    "# Create matrix\n",
    "A = np.arange(J_new * J).reshape(J_new, J)\n",
    "\n",
    "# Performs Mode-n product \n",
    "Y = X.mode_n_product(A, mode=1, inplace=False)\n",
    "\n",
    "# Preview of resulting tensor\n",
    "print(Y)\n",
    "\n",
    "# Preview of its unfolded version\n",
    "Y.unfold(mode=1, inplace=False).data"
   ]
  },
  {
   "cell_type": "markdown",
   "metadata": {
    "toc-hr-collapsed": true
   },
   "source": [
    "## **Assignment 4**\n",
    "\n",
    "1. Perform the mode-$n$ product of a 3-rd order tensor, $\\mathbf{\\underline{X}}$, with a matrix, $\\mathbf{A} \\in  \\mathbb{R}^{5 \\times 4}$, provided that the resulting tensor, $\\mathbf{\\underline{Y}}$, consists of `100` elements. Validate your results. \n",
    "\n",
    "> **Note:** You are encouraged to experiment with the optional parameter `inplace` and to investigate its effect on the result."
   ]
  },
  {
   "cell_type": "markdown",
   "metadata": {},
   "source": [
    "### Solution: Part 1"
   ]
  },
  {
   "cell_type": "code",
   "execution_count": 32,
   "metadata": {},
   "outputs": [],
   "source": [
    "# Create original tensor \n",
    "I, J, K = 10, 4, 2\n",
    "\n",
    "array_3d = np.arange(I * J * K).reshape(I, J ,K)\n",
    "X = Tensor(array_3d)"
   ]
  },
  {
   "cell_type": "code",
   "execution_count": 33,
   "metadata": {},
   "outputs": [],
   "source": [
    "# Create matrix\n",
    "J_new = 5\n",
    "A = np.arange(J_new * J).reshape(J_new, J)"
   ]
  },
  {
   "cell_type": "code",
   "execution_count": 36,
   "metadata": {},
   "outputs": [],
   "source": [
    "# Perform mode-n product \n",
    "Y = X.mode_n_product(A, mode=1, inplace=False)"
   ]
  },
  {
   "cell_type": "code",
   "execution_count": 35,
   "metadata": {},
   "outputs": [
    {
     "name": "stdout",
     "output_type": "stream",
     "text": [
      "This tensor is of order 3 and consists of 100 elements.\n",
      "Sizes and names of its modes are (10, 5, 2) and ['mode-0', 'mode-1', 'mode-2'] respectively.\n"
     ]
    },
    {
     "data": {
      "text/plain": [
       "array([[  28,   34,   76,   82,  124,  130,  172,  178,  220,  226,  268,\n",
       "         274,  316,  322,  364,  370,  412,  418,  460,  466],\n",
       "       [  76,   98,  252,  274,  428,  450,  604,  626,  780,  802,  956,\n",
       "         978, 1132, 1154, 1308, 1330, 1484, 1506, 1660, 1682],\n",
       "       [ 124,  162,  428,  466,  732,  770, 1036, 1074, 1340, 1378, 1644,\n",
       "        1682, 1948, 1986, 2252, 2290, 2556, 2594, 2860, 2898],\n",
       "       [ 172,  226,  604,  658, 1036, 1090, 1468, 1522, 1900, 1954, 2332,\n",
       "        2386, 2764, 2818, 3196, 3250, 3628, 3682, 4060, 4114],\n",
       "       [ 220,  290,  780,  850, 1340, 1410, 1900, 1970, 2460, 2530, 3020,\n",
       "        3090, 3580, 3650, 4140, 4210, 4700, 4770, 5260, 5330]])"
      ]
     },
     "execution_count": 35,
     "metadata": {},
     "output_type": "execute_result"
    }
   ],
   "source": [
    "# Validate equivalence between the left and right hand side\n",
    "print(Y)\n",
    "Y.unfold(mode=1, inplace=False).data"
   ]
  },
  {
   "cell_type": "markdown",
   "metadata": {},
   "source": [
    "# Properties of mode-n product\n",
    "\n",
    "1. For distinct modes in a series of multiplications, the order of the multiplication is irrelevent: \n",
    "\n",
    "    $$\\mathbf{\\underline{X}} \\times_n \\mathbf{A} \\times_m \\mathbf{B} = \\mathbf{\\underline{X}} \\times_m \\mathbf{B} \\times_n \\mathbf{A} \\quad (m \\neq n)$$\n",
    "\n",
    "1. However, this does not hold if the modes are the same :\n",
    "\n",
    "    $$\\mathbf{\\underline{X}} \\times_n \\mathbf{A} \\times_n \\mathbf{B} = \\mathbf{\\underline{X}} \\times_n (\\mathbf{B}\\mathbf{A})$$"
   ]
  },
  {
   "cell_type": "markdown",
   "metadata": {
    "toc-hr-collapsed": true
   },
   "source": [
    "## **Assignment 5**\n",
    "\n",
    "1. Validate both of the above properties empirically \n",
    "2. Prove the second property analytically\n",
    "\n",
    "> **Note:** Be aware of consequences of the optional parameter `inplace` (its default value is set to `True`)."
   ]
  },
  {
   "cell_type": "markdown",
   "metadata": {},
   "source": [
    "### Solution: Part 1"
   ]
  },
  {
   "cell_type": "code",
   "execution_count": 31,
   "metadata": {},
   "outputs": [],
   "source": [
    "# Create tensor\n",
    "I, J, K = 2, 3, 4\n",
    "J_new, K_new = 5, 6\n",
    "\n",
    "array_3d = np.arange(I * J * K).reshape(I, J ,K)\n",
    "X = Tensor(array_3d)"
   ]
  },
  {
   "cell_type": "code",
   "execution_count": 23,
   "metadata": {},
   "outputs": [],
   "source": [
    "# Create matrices\n",
    "A = np.arange(J_new * J).reshape(J_new, J)\n",
    "B = np.arange(K_new * K).reshape(K_new, K)\n",
    "\n",
    "B1 = np.arange(K_new * J_new).reshape(K_new, J_new)"
   ]
  },
  {
   "cell_type": "code",
   "execution_count": 21,
   "metadata": {},
   "outputs": [
    {
     "name": "stdout",
     "output_type": "stream",
     "text": [
      "The underlying data arrays are equal for all of them.\n"
     ]
    }
   ],
   "source": [
    "# Validate property 1\n",
    "Y1 = X.mode_n_product(A, mode=1, inplace=False).mode_n_product(B, mode=2, inplace=False)\n",
    "Y2 = X.mode_n_product(B, mode=2, inplace=False).mode_n_product(A, mode=1, inplace=False)\n",
    "np.testing.assert_array_equal(Y1.data, Y2.data)\n",
    "print('The underlying data arrays are equal for all of them.')"
   ]
  },
  {
   "cell_type": "code",
   "execution_count": 26,
   "metadata": {},
   "outputs": [
    {
     "name": "stdout",
     "output_type": "stream",
     "text": [
      "The underlying data arrays are equal for all of them.\n"
     ]
    }
   ],
   "source": [
    "# Validate property 2\n",
    "Y4 = X.mode_n_product(A, mode=1, inplace=False).mode_n_product(B1, mode=1, inplace=False)\n",
    "Y5 = X.mode_n_product(np.dot(B1,A), mode=1, inplace=False)\n",
    "np.testing.assert_array_equal(Y4.data, Y5.data)\n",
    "print('The underlying data arrays are equal for all of them.')"
   ]
  },
  {
   "cell_type": "markdown",
   "metadata": {
    "toc-hr-collapsed": true
   },
   "source": [
    "### Solution: Part 2\n",
    "\n",
    "Use [LaTeX syntax](https://stackoverflow.com/questions/13208286/how-to-write-latex-in-ipython-notebook) for analytical deriviations for the second property below.\n"
   ]
  },
  {
   "cell_type": "code",
   "execution_count": 33,
   "metadata": {},
   "outputs": [
    {
     "data": {
      "text/latex": [
       "The n-mode product is defined as:\n",
       "    \\begin{equation}\n",
       "           (\\mathbf{\\underline{X}} \\times_{n} \\mathbf{A}) = \\sum_{i_{n}=1}^{I_{N}} \\underline{X}_{i_{1},i_{2}...i_{N}}A_{ji_{n}}\n",
       "    \\end{equation}\n",
       "Therefore we have:\n",
       "\\begin{equation}\n",
       "    \\mathbf{\\underline{X}} \\times_{n} \\mathbf{A} \\times_{n} \\mathbf{B} = \\sum_{j_{n} = 1}^{J_{N}}(\\sum_{i_{n}=1}^{I_{N}} \\underline{X}_{i_{1},i_{2}...i_{N}}A_{j_{n}i_{n}})B_{kj_{n}} = \\sum_{i_{n}=1}^{I_{N}} \\underline{X}_{i_{1},i_{2}...i_{N}} \\sum_{j_{n} = 1}^{J_{N}} A_{j_{n}i_{n}}B_{kj_{n}} =  \\sum_{i_{n}=1}^{I_{N}} \\underline{X}_{i_{1},i_{2}...i_{N}} \\sum_{j_{n} = 1}^{J_{N}} B_{kj_{n}}A_{j_{n}i_{n}} =  \\mathbf{\\underline{X}} \\times_{n} (\\mathbf{BA})                   \n",
       "\\end{equation}\n"
      ],
      "text/plain": [
       "<IPython.core.display.Latex object>"
      ]
     },
     "metadata": {},
     "output_type": "display_data"
    }
   ],
   "source": [
    "%%latex\n",
    "The n-mode product is defined as:\n",
    "    \\begin{equation}\n",
    "           (\\mathbf{\\underline{X}} \\times_{n} \\mathbf{A}) = \\sum_{i_{n}=1}^{I_{N}} \\underline{X}_{i_{1},i_{2}...i_{N}}A_{ji_{n}}\n",
    "    \\end{equation}\n",
    "Therefore we have:\n",
    "\\begin{equation}\n",
    "    \\mathbf{\\underline{X}} \\times_{n} \\mathbf{A} \\times_{n} \\mathbf{B} = \\sum_{j_{n} = 1}^{J_{N}}(\\sum_{i_{n}=1}^{I_{N}} \\underline{X}_{i_{1},i_{2}...i_{N}}A_{j_{n}i_{n}})B_{kj_{n}} = \\sum_{i_{n}=1}^{I_{N}} \\underline{X}_{i_{1},i_{2}...i_{N}} \\sum_{j_{n} = 1}^{J_{N}} A_{j_{n}i_{n}}B_{kj_{n}} =  \\sum_{i_{n}=1}^{I_{N}} \\underline{X}_{i_{1},i_{2}...i_{N}} \\sum_{j_{n} = 1}^{J_{N}} B_{kj_{n}}A_{j_{n}i_{n}} =  \\mathbf{\\underline{X}} \\times_{n} (\\mathbf{BA})                   \n",
    "\\end{equation}\n",
    "This corresonds to the affirmation of property 2"
   ]
  },
  {
   "cell_type": "code",
   "execution_count": null,
   "metadata": {},
   "outputs": [],
   "source": []
  }
 ],
 "metadata": {
  "kernelspec": {
   "display_name": "dpm-coursework",
   "language": "python",
   "name": "dpm-coursework"
  },
  "language_info": {
   "codemirror_mode": {
    "name": "ipython",
    "version": 3
   },
   "file_extension": ".py",
   "mimetype": "text/x-python",
   "name": "python",
   "nbconvert_exporter": "python",
   "pygments_lexer": "ipython3",
   "version": "3.7.2"
  },
  "toc-autonumbering": false,
  "toc-showcode": false,
  "toc-showmarkdowntxt": false
 },
 "nbformat": 4,
 "nbformat_minor": 2
}
